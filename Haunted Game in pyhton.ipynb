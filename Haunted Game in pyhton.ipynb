{
 "cells": [
  {
   "cell_type": "code",
   "execution_count": null,
   "metadata": {},
   "outputs": [],
   "source": [
    "print(\"*************** Welcome to the World of death *******************************\")\n",
    "\n",
    "print(\"Press 1 to move left and press 2 to move right\")\n",
    "\n",
    "left=0\n",
    "right=0\n",
    "while 1:\n",
    "    choice=int(input(\"Enter your choice\"))\n",
    "    if choice==1:\n",
    "        print(\"you moved to left\")\n",
    "        left=left+1\n",
    "    elif choice==2:\n",
    "        print(\"you moved to right\")\n",
    "        right=right+1\n",
    "    else:\n",
    "        print(\"you entered a wrong value \")\n",
    "\n",
    "    if left==5 and right ==2:\n",
    "        print(\"Congrtas you have won the game \")\n",
    "        break\n",
    "    elif(left==10 and right==10):\n",
    "        print (\"You are dead, You can't go any further. Game over.\")\n",
    "        break"
   ]
  }
 ],
 "metadata": {
  "kernelspec": {
   "display_name": "Python 3",
   "language": "python",
   "name": "python3"
  },
  "language_info": {
   "name": "python",
   "version": "3.10.11"
  },
  "orig_nbformat": 4
 },
 "nbformat": 4,
 "nbformat_minor": 2
}
